{
  "cells": [
    {
      "cell_type": "markdown",
      "metadata": {
        "id": "view-in-github",
        "colab_type": "text"
      },
      "source": [
        "<a href=\"https://colab.research.google.com/github/andriygedz/test-app/blob/master/apps/opik-documentation/documentation/docs/cookbook/quickstart_notebook.ipynb\" target=\"_parent\"><img src=\"https://colab.research.google.com/assets/colab-badge.svg\" alt=\"Open In Colab\"/></a>"
      ]
    },
    {
      "cell_type": "markdown",
      "metadata": {
        "id": "QHU5rhyXdusq"
      },
      "source": [
        "# Quickstart notebook - Summarization task\n",
        "\n",
        "In this notebook, we will look at how you can use Opik to track your LLM calls, chains and agents. We will introduce the concept of tracing and how to automate the evaluation of your LLM workflows.\n",
        "\n",
        "We will be using a technique called Chain of Density Summarization to summarize Arxiv papers. You can learn more about this technique in the [From Sparse to Dense: GPT-4 Summarization with Chain of Density Prompting](https://arxiv.org/abs/2309.04269) paper."
      ]
    },
    {
      "cell_type": "markdown",
      "metadata": {
        "id": "-_-SZX0Ydusr"
      },
      "source": [
        "## Getting started\n",
        "\n",
        "We will first install the required dependencies and configure both Opik and OpenAI."
      ]
    },
    {
      "cell_type": "code",
      "execution_count": 1,
      "metadata": {
        "id": "5Gt3cYF3dusr",
        "outputId": "3927f5e0-042b-4447-b7d5-6803bb3c6841",
        "colab": {
          "base_uri": "https://localhost:8080/"
        }
      },
      "outputs": [
        {
          "output_type": "stream",
          "name": "stdout",
          "text": [
            "\u001b[?25l   \u001b[90m━━━━━━━━━━━━━━━━━━━━━━━━━━━━━━━━━━━━━━━━\u001b[0m \u001b[32m0.0/242.3 kB\u001b[0m \u001b[31m?\u001b[0m eta \u001b[36m-:--:--\u001b[0m\r\u001b[2K   \u001b[90m━━━━━━━━━━━━━━━━━━━━━━━━━━━━━━━━━━━━━━━━\u001b[0m \u001b[32m242.3/242.3 kB\u001b[0m \u001b[31m7.6 MB/s\u001b[0m eta \u001b[36m0:00:00\u001b[0m\n",
            "\u001b[?25h\u001b[?25l   \u001b[90m━━━━━━━━━━━━━━━━━━━━━━━━━━━━━━━━━━━━━━━━\u001b[0m \u001b[32m0.0/389.5 kB\u001b[0m \u001b[31m?\u001b[0m eta \u001b[36m-:--:--\u001b[0m\r\u001b[2K   \u001b[90m━━━━━━━━━━━━━━━━━━━━━━━━━━━━━━━━━━━━━━━━\u001b[0m \u001b[32m389.5/389.5 kB\u001b[0m \u001b[31m16.5 MB/s\u001b[0m eta \u001b[36m0:00:00\u001b[0m\n",
            "\u001b[2K   \u001b[90m━━━━━━━━━━━━━━━━━━━━━━━━━━━━━━━━━━━━━━━━\u001b[0m \u001b[32m232.6/232.6 kB\u001b[0m \u001b[31m11.3 MB/s\u001b[0m eta \u001b[36m0:00:00\u001b[0m\n",
            "\u001b[2K   \u001b[90m━━━━━━━━━━━━━━━━━━━━━━━━━━━━━━━━━━━━━━━━\u001b[0m \u001b[32m177.4/177.4 kB\u001b[0m \u001b[31m7.6 MB/s\u001b[0m eta \u001b[36m0:00:00\u001b[0m\n",
            "\u001b[2K   \u001b[90m━━━━━━━━━━━━━━━━━━━━━━━━━━━━━━━━━━━━━━━━\u001b[0m \u001b[32m6.4/6.4 MB\u001b[0m \u001b[31m47.4 MB/s\u001b[0m eta \u001b[36m0:00:00\u001b[0m\n",
            "\u001b[2K   \u001b[90m━━━━━━━━━━━━━━━━━━━━━━━━━━━━━━━━━━━━━━━━\u001b[0m \u001b[32m3.1/3.1 MB\u001b[0m \u001b[31m41.6 MB/s\u001b[0m eta \u001b[36m0:00:00\u001b[0m\n",
            "\u001b[2K   \u001b[90m━━━━━━━━━━━━━━━━━━━━━━━━━━━━━━━━━━━━━━━━\u001b[0m \u001b[32m1.2/1.2 MB\u001b[0m \u001b[31m20.6 MB/s\u001b[0m eta \u001b[36m0:00:00\u001b[0m\n",
            "\u001b[?25h"
          ]
        }
      ],
      "source": [
        "%pip install -U opik openai requests PyPDF2 --quiet"
      ]
    },
    {
      "cell_type": "markdown",
      "metadata": {
        "id": "SH2CI55Dduss"
      },
      "source": [
        "\n",
        "[Comet](https://www.comet.com/site?from=llm&utm_source=opik&utm_medium=colab&utm_content=langchain&utm_campaign=opik) provides a hosted version of the Opik platform, [simply create an account](https://www.comet.com/signup?from=llm&utm_source=opik&utm_medium=colab&utm_content=langchain&utm_campaign=opik) and grab you API Key.\n",
        "\n",
        "> You can also run the Opik platform locally, see the [installation guide](https://www.comet.com/docs/opik/self-host/overview/?from=llm&utm_source=opik&utm_medium=colab&utm_content=langchain&utm_campaign=opik) for more information."
      ]
    },
    {
      "cell_type": "code",
      "execution_count": 2,
      "metadata": {
        "id": "r4ZV_49tduss",
        "outputId": "894a76d1-34aa-4c5e-8b18-5d28eb3d29ef",
        "colab": {
          "base_uri": "https://localhost:8080/"
        }
      },
      "outputs": [
        {
          "output_type": "stream",
          "name": "stderr",
          "text": [
            "OPIK: Your Opik API key is available in your account settings, can be found at https://www.comet.com/api/my/settings/ for Opik cloud\n"
          ]
        },
        {
          "name": "stdout",
          "output_type": "stream",
          "text": [
            "Please enter your Opik API key:··········\n",
            "Do you want to use \"andriygedz\" workspace? (Y/n)Y\n"
          ]
        },
        {
          "output_type": "stream",
          "name": "stderr",
          "text": [
            "OPIK: Configuration saved to file: /root/.opik.config\n"
          ]
        }
      ],
      "source": [
        "import opik\n",
        "import os\n",
        "\n",
        "# Configure Opik\n",
        "opik.configure()"
      ]
    },
    {
      "cell_type": "markdown",
      "metadata": {
        "id": "6foCdO-pduss"
      },
      "source": [
        "## Implementing Chain of Density Summarization\n",
        "\n",
        "The idea behind this approach is to first generate a sparse candidate summary and then iteratively refine it with missing information without making it longer. We will start by defining two prompts:\n",
        "\n",
        "1. Iteration summary prompt: This prompt is used to generate and refine a candidate summary.\n",
        "2. Final summary prompt: This prompt is used to generate the final summary from the sparse set of candidate summaries."
      ]
    },
    {
      "cell_type": "code",
      "execution_count": 3,
      "metadata": {
        "id": "QhhioK4wduss"
      },
      "outputs": [],
      "source": [
        "import opik\n",
        "\n",
        "ITERATION_SUMMARY_PROMPT = opik.Prompt(\n",
        "    name=\"Iteration Summary Prompt\",\n",
        "    prompt=\"\"\"\n",
        "Document: {document}\n",
        "Current summary: {current_summary}\n",
        "Instruction to focus on: {instruction}\n",
        "\n",
        "Generate a concise, entity-dense, and highly technical summary from the provided Document that specifically addresses the given Instruction.\n",
        "\n",
        "Guidelines:\n",
        "- Make every word count: If there is a current summary re-write it to improve flow, density and conciseness.\n",
        "- Remove uninformative phrases like \"the article discusses\".\n",
        "- The summary should become highly dense and concise yet self-contained, e.g. , easily understood without the Document.\n",
        "- Make sure that the summary specifically addresses the given Instruction\n",
        "\"\"\".rstrip().lstrip(),\n",
        ")\n",
        "\n",
        "FINAL_SUMMARY_PROMPT = opik.Prompt(\n",
        "    name=\"Final Summary Prompt\",\n",
        "    prompt=\"\"\"\n",
        "Given this summary: {current_summary}\n",
        "And this instruction to focus on: {instruction}\n",
        "Create an extremely dense, final summary that captures all key technical information in the most concise form possible, while specifically addressing the given instruction.\n",
        "\"\"\".rstrip().lstrip(),\n",
        ")"
      ]
    },
    {
      "cell_type": "markdown",
      "metadata": {
        "id": "wKTxiIbTduss"
      },
      "source": [
        "We can now define the summarization chain by combining the two prompts. In order to track the LLM calls, we will use Opik's integration with OpenAI through the `track_openai` function and we will add the `@opik.track` decorator to each function so we can track the full chain and not just individual LLM calls:"
      ]
    },
    {
      "cell_type": "code",
      "execution_count": 16,
      "metadata": {
        "id": "t22eK3Vlduss"
      },
      "outputs": [],
      "source": [
        "from opik.integrations.openai import track_openai\n",
        "from openai import OpenAI\n",
        "import opik\n",
        "\n",
        "# Use a dedicated quickstart endpoint, replace with your own OpenAI API Key in your own code\n",
        "openai_client = track_openai(\n",
        "    OpenAI(\n",
        "        base_url=\"https://odbrly0rrk.execute-api.us-east-1.amazonaws.com/Prod/\",\n",
        "        api_key=\"Opik-Quickstart\",\n",
        "    )\n",
        ")\n",
        "\n",
        "\n",
        "@opik.track\n",
        "def summarize_current_summary(\n",
        "    document: str,\n",
        "    instruction: str,\n",
        "    current_summary: str,\n",
        "    model: str = \"gpt-4o-mini\",\n",
        "):\n",
        "    prompt = ITERATION_SUMMARY_PROMPT.prompt.format(\n",
        "        document=document, current_summary=current_summary, instruction=instruction\n",
        "    )\n",
        "\n",
        "    response = openai_client.chat.completions.create(\n",
        "        model=model, max_tokens=4096, messages=[{\"role\": \"user\", \"content\": prompt}]\n",
        "    )\n",
        "\n",
        "    return response.choices[0].message.content\n",
        "\n",
        "\n",
        "@opik.track\n",
        "def iterative_density_summarization(\n",
        "    document: str,\n",
        "    instruction: str,\n",
        "    density_iterations: int,\n",
        "    model: str = \"gpt-4o-mini\",\n",
        "):\n",
        "    summary = \"\"\n",
        "    for iteration in range(1, density_iterations + 1):\n",
        "        summary = summarize_current_summary(document, instruction, summary, model)\n",
        "    return summary\n",
        "\n",
        "\n",
        "@opik.track\n",
        "def final_summary(instruction: str, current_summary: str, model: str = \"gpt-4o-mini\"):\n",
        "    prompt = FINAL_SUMMARY_PROMPT.prompt.format(\n",
        "        current_summary=current_summary, instruction=instruction\n",
        "    )\n",
        "\n",
        "    return (\n",
        "        openai_client.chat.completions.create(\n",
        "            model=model, max_tokens=4096, messages=[{\"role\": \"user\", \"content\": prompt}]\n",
        "        )\n",
        "        .choices[0]\n",
        "        .message.content\n",
        "    )\n",
        "\n",
        "\n",
        "@opik.track\n",
        "def chain_of_density_summarization(\n",
        "    document: str,\n",
        "    instruction: str,\n",
        "    model: str = \"gpt-4o-mini\",\n",
        "    density_iterations: int = 2,\n",
        "):\n",
        "    summary = iterative_density_summarization(\n",
        "        document, instruction, density_iterations, model\n",
        "    )\n",
        "    final_summary_text = final_summary(instruction, summary, model)\n",
        "\n",
        "    return final_summary_text"
      ]
    },
    {
      "cell_type": "markdown",
      "metadata": {
        "id": "QWSnauhSdust"
      },
      "source": [
        "Let's call the summarization chain with a sample document:"
      ]
    },
    {
      "cell_type": "code",
      "execution_count": 17,
      "metadata": {
        "id": "QnShCIamdust",
        "outputId": "b1ff9e51-fed6-4dc5-8d68-243dab4b12b6",
        "colab": {
          "base_uri": "https://localhost:8080/"
        }
      },
      "outputs": [
        {
          "output_type": "stream",
          "name": "stdout",
          "text": [
            "AI transforms industries by enhancing efficiency: in healthcare, it aids in\n",
            "disease diagnosis, outcome prediction, and personalized treatment; in finance,\n",
            "it boosts fraud detection, algorithmic trading, and risk management; and in\n",
            "education, it enables personalized learning, adaptive assessments, and content\n",
            "generation. Despite these advancements, AI poses critical challenges such as\n",
            "data privacy, algorithmic bias, and employment impacts, necessitating ethical\n",
            "considerations for responsible development.\n"
          ]
        }
      ],
      "source": [
        "import textwrap\n",
        "\n",
        "os.environ[\"OPIK_PROJECT_NAME\"] = \"Chain of Density Summarization\"\n",
        "\n",
        "document = \"\"\"\n",
        "Artificial intelligence (AI) is transforming industries, revolutionizing healthcare, finance, education, and even creative fields. AI systems\n",
        "today are capable of performing tasks that previously required human intelligence, such as language processing, visual perception, and\n",
        "decision-making. In healthcare, AI assists in diagnosing diseases, predicting patient outcomes, and even developing personalized treatment plans.\n",
        "In finance, it helps in fraud detection, algorithmic trading, and risk management. Education systems leverage AI for personalized learning, adaptive\n",
        "testing, and educational content generation. Despite these advancements, ethical concerns such as data privacy, bias, and the impact of AI on employment\n",
        "remain. The future of AI holds immense potential, but also significant challenges.\n",
        "\"\"\"\n",
        "\n",
        "instruction = \"Summarize the main contributions of AI to different industries, and highlight both its potential and associated challenges.\"\n",
        "\n",
        "summary = chain_of_density_summarization(document, instruction)\n",
        "\n",
        "print(\"\\n\".join(textwrap.wrap(summary, width=80)))"
      ]
    },
    {
      "cell_type": "markdown",
      "metadata": {
        "id": "dcWXKdaidust"
      },
      "source": [
        "Thanks to the `@opik.track` decorator and Opik's integration with OpenAI, we can now track the entire chain and all the LLM calls in the Opik UI:\n",
        "\n",
        "![Trace UI](https://raw.githubusercontent.com/comet-ml/opik/main/apps/opik-documentation/documentation/static/img/cookbook/chain_density_trace_cookbook.png)"
      ]
    },
    {
      "cell_type": "markdown",
      "metadata": {
        "id": "ldeR7S3idust"
      },
      "source": [
        "## Automatting the evaluation process\n",
        "\n",
        "### Defining a dataset\n",
        "Now that we have a working chain, we can automate the evaluation process. We will start by defining a dataset of documents and instructions:"
      ]
    },
    {
      "cell_type": "code",
      "execution_count": 6,
      "metadata": {
        "id": "4aSibnUddust",
        "outputId": "680fe9a3-5a1a-431e-83e2-1fd665ed3ca7",
        "colab": {
          "base_uri": "https://localhost:8080/"
        }
      },
      "outputs": [
        {
          "output_type": "stream",
          "name": "stderr",
          "text": [
            "OPIK: Created a \"arXiv Papers\" dataset at https://www.comet.com/opik/andriygedz/redirect/datasets?name=arXiv%20Papers.\n"
          ]
        }
      ],
      "source": [
        "import opik\n",
        "\n",
        "dataset_items = [\n",
        "    {\n",
        "        \"pdf_url\": \"https://arxiv.org/pdf/2301.00234\",\n",
        "        \"title\": \"A Survey on In-context Learning\",\n",
        "        \"instruction\": \"Summarize the key findings on the impact of prompt engineering in in-context learning.\",\n",
        "    },\n",
        "    {\n",
        "        \"pdf_url\": \"https://arxiv.org/pdf/2301.03728\",\n",
        "        \"title\": \"Scaling Laws for Generative Mixed-Modal Language Models\",\n",
        "        \"instruction\": \"How do scaling laws apply to generative mixed-modal models according to the paper?\",\n",
        "    },\n",
        "    {\n",
        "        \"pdf_url\": \"https://arxiv.org/pdf/2308.10792\",\n",
        "        \"title\": \"Instruction Tuning for Large Language Models: A Survey\",\n",
        "        \"instruction\": \"What are the major challenges in instruction tuning for large language models identified in the paper?\",\n",
        "    },\n",
        "    {\n",
        "        \"pdf_url\": \"https://arxiv.org/pdf/2302.08575\",\n",
        "        \"title\": \"Foundation Models in Natural Language Processing: A Survey\",\n",
        "        \"instruction\": \"Explain the role of foundation models in the current natural language processing landscape.\",\n",
        "    },\n",
        "    {\n",
        "        \"pdf_url\": \"https://arxiv.org/pdf/2306.13398\",\n",
        "        \"title\": \"Large-scale Multi-Modal Pre-trained Models: A Comprehensive Survey\",\n",
        "        \"instruction\": \"What are the cutting edge techniques used in multi-modal pre-training models?\",\n",
        "    },\n",
        "    {\n",
        "        \"pdf_url\": \"https://arxiv.org/pdf/2103.07492\",\n",
        "        \"title\": \"Continual Learning in Neural Networks: An Empirical Evaluation\",\n",
        "        \"instruction\": \"What are the main challenges of continual learning for neural networks according to the paper?\",\n",
        "    },\n",
        "    {\n",
        "        \"pdf_url\": \"https://arxiv.org/pdf/2304.00685v2\",\n",
        "        \"title\": \"Vision-Language Models for Vision Tasks: A Survey\",\n",
        "        \"instruction\": \"What are the most widely used vision-language models?\",\n",
        "    },\n",
        "    {\n",
        "        \"pdf_url\": \"https://arxiv.org/pdf/2303.08774\",\n",
        "        \"title\": \"GPT-4 Technical Report\",\n",
        "        \"instruction\": \"What are the main differences between GPT-4 and GPT-3.5?\",\n",
        "    },\n",
        "    {\n",
        "        \"pdf_url\": \"https://arxiv.org/pdf/2406.04744\",\n",
        "        \"title\": \"CRAG -- Comprehensive RAG Benchmark\",\n",
        "        \"instruction\": \"What was the approach to experimenting with different data mixtures?\",\n",
        "    },\n",
        "]\n",
        "\n",
        "client = opik.Opik()\n",
        "DATASET_NAME = \"arXiv Papers\"\n",
        "dataset = client.get_or_create_dataset(name=DATASET_NAME)\n",
        "dataset.insert(dataset_items)"
      ]
    },
    {
      "cell_type": "markdown",
      "metadata": {
        "id": "VdH8zfVydust"
      },
      "source": [
        "*Note:* Opik automatically deduplicates dataset items to make it easier to iterate on your dataset.\n",
        "\n",
        "### Defining the evaluation metrics\n",
        "\n",
        "Opik includes a [library of evaluation metrics](https://www.comet.com/docs/opik/evaluation/metrics/overview) that you can use to evaluate your chains. For this particular example, we will be using a custom metric that evaluates the relevance, conciseness and technical accuracy of each summary"
      ]
    },
    {
      "cell_type": "code",
      "execution_count": 20,
      "metadata": {
        "id": "n8Cs7UiUdust"
      },
      "outputs": [],
      "source": [
        "from opik.evaluation.metrics import base_metric, score_result\n",
        "import json\n",
        "\n",
        "# We will define the response format so the output has the correct schema. You can also use structured outputs with Pydantic models for this.\n",
        "json_schema = {\n",
        "    \"type\": \"json_schema\",\n",
        "    \"json_schema\": {\n",
        "        \"name\": \"summary_evaluation_schema\",\n",
        "        \"schema\": {\n",
        "            \"type\": \"object\",\n",
        "            \"properties\": {\n",
        "                \"relevance\": {\n",
        "                    \"type\": \"object\",\n",
        "                    \"properties\": {\n",
        "                        \"score\": {\n",
        "                            \"type\": \"integer\",\n",
        "                            \"minimum\": 1,\n",
        "                            \"maximum\": 5,\n",
        "                            \"description\": \"Score between 1-5 for how well the summary addresses the instruction\",\n",
        "                        },\n",
        "                        \"explanation\": {\n",
        "                            \"type\": \"string\",\n",
        "                            \"description\": \"Brief explanation of the relevance score\",\n",
        "                        },\n",
        "                    },\n",
        "                    \"required\": [\"score\", \"explanation\"],\n",
        "                },\n",
        "                \"conciseness\": {\n",
        "                    \"type\": \"object\",\n",
        "                    \"properties\": {\n",
        "                        \"score\": {\n",
        "                            \"type\": \"integer\",\n",
        "                            \"minimum\": 1,\n",
        "                            \"maximum\": 5,\n",
        "                            \"description\": \"Score between 1-5 for how concise the summary is while retaining key information\",\n",
        "                        },\n",
        "                        \"explanation\": {\n",
        "                            \"type\": \"string\",\n",
        "                            \"description\": \"Brief explanation of the conciseness score\",\n",
        "                        },\n",
        "                    },\n",
        "                    \"required\": [\"score\", \"explanation\"],\n",
        "                },\n",
        "                \"technical_accuracy\": {\n",
        "                    \"type\": \"object\",\n",
        "                    \"properties\": {\n",
        "                        \"score\": {\n",
        "                            \"type\": \"integer\",\n",
        "                            \"minimum\": 1,\n",
        "                            \"maximum\": 5,\n",
        "                            \"description\": \"Score between 1-5 for how accurately the summary conveys technical details\",\n",
        "                        },\n",
        "                        \"explanation\": {\n",
        "                            \"type\": \"string\",\n",
        "                            \"description\": \"Brief explanation of the technical accuracy score\",\n",
        "                        },\n",
        "                    },\n",
        "                    \"required\": [\"score\", \"explanation\"],\n",
        "                },\n",
        "            },\n",
        "            \"required\": [\"relevance\", \"conciseness\", \"technical_accuracy\"],\n",
        "            \"additionalProperties\": False,\n",
        "        },\n",
        "    },\n",
        "}\n",
        "\n",
        "\n",
        "# Custom Metric: One template/prompt to extract 4 scores/results\n",
        "class EvaluateSummary(base_metric.BaseMetric):\n",
        "    # Constructor\n",
        "    def __init__(self, name: str):\n",
        "        self.name = name\n",
        "\n",
        "    def score(\n",
        "        self, summary: str, instruction: str, model: str = \"gpt-4o\", **kwargs\n",
        "    ):\n",
        "        prompt = f\"\"\"\n",
        "            Summary: {summary}\n",
        "            Instruction: {instruction}\n",
        "\n",
        "            Evaluate the summary based on the following criteria:\n",
        "            1. Relevance (1-5): How well does the summary address the given instruction?\n",
        "            2. Conciseness (1-5): How concise is the summary while retaining key information?\n",
        "            3. Technical Accuracy (1-5): How accurately does the summary convey technical details?\n",
        "\n",
        "            Your response MUST be in the following JSON format:\n",
        "            {{\n",
        "                \"relevance\": {{\n",
        "                    \"score\": <int>,\n",
        "                    \"explanation\": \"<string>\"\n",
        "                }},\n",
        "            \"conciseness\": {{\n",
        "                \"score\": <int>,\n",
        "                \"explanation\": \"<string>\"\n",
        "                }},\n",
        "            \"technical_accuracy\": {{\n",
        "                \"score\": <int>,\n",
        "                \"explanation\": \"<string>\"\n",
        "                }}\n",
        "            }}\n",
        "\n",
        "            Ensure that the scores are integers between 1 and 5, and that the explanations are concise.\n",
        "        \"\"\"\n",
        "\n",
        "        response = openai_client.chat.completions.create(\n",
        "            model=model,\n",
        "            max_tokens=1000,\n",
        "            messages=[{\"role\": \"user\", \"content\": prompt}],\n",
        "            response_format=json_schema,\n",
        "        )\n",
        "\n",
        "        eval_dict = json.loads(response.choices[0].message.content)\n",
        "\n",
        "        return [\n",
        "            score_result.ScoreResult(\n",
        "                name=\"summary_relevance\",\n",
        "                value=eval_dict[\"relevance\"][\"score\"],\n",
        "                reason=eval_dict[\"relevance\"][\"explanation\"],\n",
        "            ),\n",
        "            score_result.ScoreResult(\n",
        "                name=\"summary_conciseness\",\n",
        "                value=eval_dict[\"conciseness\"][\"score\"],\n",
        "                reason=eval_dict[\"conciseness\"][\"explanation\"],\n",
        "            ),\n",
        "            score_result.ScoreResult(\n",
        "                name=\"summary_technical_accuracy\",\n",
        "                value=eval_dict[\"technical_accuracy\"][\"score\"],\n",
        "                reason=eval_dict[\"technical_accuracy\"][\"explanation\"],\n",
        "            ),\n",
        "            score_result.ScoreResult(\n",
        "                name=\"summary_average_score\",\n",
        "                value=round(sum(eval_dict[k][\"score\"] for k in eval_dict) / 3, 2),\n",
        "                reason=\"The average of the 3 summary evaluation metrics\",\n",
        "            ),\n",
        "        ]"
      ]
    },
    {
      "cell_type": "markdown",
      "metadata": {
        "id": "QfdpbcQ3dust"
      },
      "source": [
        "### Create the task we want to evaluate\n",
        "\n",
        "We can now create the task we want to evaluate. In this case, we will have the dataset item as an input and return a dictionary containing the summary and the instruction so that we can use this in the evaluation metrics:"
      ]
    },
    {
      "cell_type": "code",
      "execution_count": 21,
      "metadata": {
        "id": "1Ezf9xWydust"
      },
      "outputs": [],
      "source": [
        "import requests\n",
        "import io\n",
        "from PyPDF2 import PdfReader\n",
        "from typing import Dict\n",
        "\n",
        "\n",
        "# Load and extract text from PDFs\n",
        "@opik.track\n",
        "def load_pdf(pdf_url: str) -> str:\n",
        "    # Download the PDF\n",
        "    response = requests.get(pdf_url)\n",
        "    pdf_file = io.BytesIO(response.content)\n",
        "\n",
        "    # Read the PDF\n",
        "    pdf_reader = PdfReader(pdf_file)\n",
        "\n",
        "    # Extract text from all pages\n",
        "    text = \"\"\n",
        "    for page in pdf_reader.pages:\n",
        "        text += page.extract_text()\n",
        "\n",
        "    # Truncate the text to 100000 characters as this is the maximum supported by OpenAI\n",
        "    text = text[:100000]\n",
        "    return text\n",
        "\n",
        "\n",
        "def evaluation_task(x: Dict):\n",
        "    text = load_pdf(x[\"pdf_url\"])\n",
        "    instruction = x[\"instruction\"]\n",
        "    model = MODEL\n",
        "    density_iterations = DENSITY_ITERATIONS\n",
        "\n",
        "    result = chain_of_density_summarization(\n",
        "        document=text,\n",
        "        instruction=instruction,\n",
        "        model=model,\n",
        "        density_iterations=density_iterations,\n",
        "    )\n",
        "\n",
        "    return {\"summary\": result, \"instruction\": instruction}"
      ]
    },
    {
      "cell_type": "markdown",
      "metadata": {
        "id": "CI3tSzUBdust"
      },
      "source": [
        "### Run the automated evaluation"
      ]
    },
    {
      "cell_type": "markdown",
      "metadata": {
        "id": "zPW5C7yHdust"
      },
      "source": [
        "We can now use the `evaluate` method to evaluate the summaries in our dataset:"
      ]
    },
    {
      "cell_type": "code",
      "execution_count": 22,
      "metadata": {
        "id": "3iPFXqbHdust",
        "outputId": "c3b2298c-3491-4618-d55c-421849490527",
        "colab": {
          "base_uri": "https://localhost:8080/",
          "height": 416
        }
      },
      "outputs": [
        {
          "output_type": "stream",
          "name": "stderr",
          "text": [
            "\n",
            "Evaluation:   0%|          | 0/9 [00:00<?, ?it/s]\u001b[A\n",
            "Evaluation:  11%|█         | 1/9 [00:18<02:25, 18.13s/it]\u001b[A\n",
            "Evaluation:  22%|██▏       | 2/9 [00:19<00:57,  8.20s/it]\u001b[A\n",
            "Evaluation:  33%|███▎      | 3/9 [00:20<00:30,  5.05s/it]\u001b[A\n",
            "Evaluation:  44%|████▍     | 4/9 [00:25<00:23,  4.77s/it]\u001b[A\n",
            "Evaluation:  56%|█████▌    | 5/9 [00:26<00:14,  3.60s/it]\u001b[A\n",
            "Evaluation:  67%|██████▋   | 6/9 [00:30<00:11,  3.71s/it]\u001b[A\n",
            "Evaluation:  78%|███████▊  | 7/9 [00:31<00:05,  2.77s/it]\u001b[A\n",
            "Evaluation:  89%|████████▉ | 8/9 [00:32<00:02,  2.32s/it]\u001b[A\n",
            "Evaluation: 100%|██████████| 9/9 [01:07<00:00,  7.55s/it]\n"
          ]
        },
        {
          "output_type": "display_data",
          "data": {
            "text/plain": [
              "╭─ arXiv Papers (9 samples) ───────────────╮\n",
              "│                                          │\n",
              "│ \u001b[1mTotal time:       \u001b[0m 00:01:08              │\n",
              "│ \u001b[1mNumber of samples:\u001b[0m 9                     │\n",
              "│                                          │\n",
              "│ \u001b[1;32msummary_relevance: 4.4444 (avg)\u001b[0m          │\n",
              "│ \u001b[1;32msummary_conciseness: 4.3333 (avg)\u001b[0m        │\n",
              "│ \u001b[1;32msummary_technical_accuracy: 4.8889 (avg)\u001b[0m │\n",
              "│ \u001b[1;32msummary_average_score: 4.5578 (avg)\u001b[0m      │\n",
              "│                                          │\n",
              "╰──────────────────────────────────────────╯\n"
            ],
            "text/html": [
              "<pre style=\"white-space:pre;overflow-x:auto;line-height:normal;font-family:Menlo,'DejaVu Sans Mono',consolas,'Courier New',monospace\">╭─ arXiv Papers (9 samples) ───────────────╮\n",
              "│                                          │\n",
              "│ <span style=\"font-weight: bold\">Total time:       </span> 00:01:08              │\n",
              "│ <span style=\"font-weight: bold\">Number of samples:</span> 9                     │\n",
              "│                                          │\n",
              "│ <span style=\"color: #008000; text-decoration-color: #008000; font-weight: bold\">summary_relevance: 4.4444 (avg)</span>          │\n",
              "│ <span style=\"color: #008000; text-decoration-color: #008000; font-weight: bold\">summary_conciseness: 4.3333 (avg)</span>        │\n",
              "│ <span style=\"color: #008000; text-decoration-color: #008000; font-weight: bold\">summary_technical_accuracy: 4.8889 (avg)</span> │\n",
              "│ <span style=\"color: #008000; text-decoration-color: #008000; font-weight: bold\">summary_average_score: 4.5578 (avg)</span>      │\n",
              "│                                          │\n",
              "╰──────────────────────────────────────────╯\n",
              "</pre>\n"
            ]
          },
          "metadata": {}
        },
        {
          "output_type": "display_data",
          "data": {
            "text/plain": [
              "Uploading results to Opik \u001b[33m...\u001b[0m \n"
            ],
            "text/html": [
              "<pre style=\"white-space:pre;overflow-x:auto;line-height:normal;font-family:Menlo,'DejaVu Sans Mono',consolas,'Courier New',monospace\">Uploading results to Opik <span style=\"color: #808000; text-decoration-color: #808000\">...</span> \n",
              "</pre>\n"
            ]
          },
          "metadata": {}
        },
        {
          "output_type": "display_data",
          "data": {
            "text/plain": [
              "View the results \u001b]8;id=553605;https://www.comet.com/opik/andriygedz/experiments/01935a7d-885b-7eac-8687-2921b2155fbd/compare?experiments=%5B%2206742354-7d27-75fd-8000-af58f87de839%22%5D\u001b\\in your Opik dashboard\u001b]8;;\u001b\\.\n"
            ],
            "text/html": [
              "<pre style=\"white-space:pre;overflow-x:auto;line-height:normal;font-family:Menlo,'DejaVu Sans Mono',consolas,'Courier New',monospace\">View the results <a href=\"https://www.comet.com/opik/andriygedz/experiments/01935a7d-885b-7eac-8687-2921b2155fbd/compare?experiments=%5B%2206742354-7d27-75fd-8000-af58f87de839%22%5D\" target=\"_blank\">in your Opik dashboard</a>.\n",
              "</pre>\n"
            ]
          },
          "metadata": {}
        }
      ],
      "source": [
        "from opik.evaluation import evaluate\n",
        "\n",
        "os.environ[\"OPIK_PROJECT_NAME\"] = \"summary-evaluation-prompts\"\n",
        "\n",
        "MODEL = \"gpt-4o\"\n",
        "DENSITY_ITERATIONS = 2\n",
        "\n",
        "experiment_config = {\n",
        "    \"iteration_summary_prompt\": ITERATION_SUMMARY_PROMPT,\n",
        "    \"final_summary_prompt\": FINAL_SUMMARY_PROMPT,\n",
        "    \"model\": MODEL,\n",
        "    \"density_iterations\": DENSITY_ITERATIONS,\n",
        "}\n",
        "\n",
        "res = evaluate(\n",
        "    dataset=dataset,\n",
        "    experiment_config=experiment_config,\n",
        "    task=evaluation_task,\n",
        "    scoring_metrics=[EvaluateSummary(name=\"summary-metrics\")],\n",
        "    prompt=ITERATION_SUMMARY_PROMPT,\n",
        ")"
      ]
    },
    {
      "cell_type": "markdown",
      "metadata": {
        "id": "6IGdmF2hdusu"
      },
      "source": [
        "The experiment results are now available in the Opik UI:\n",
        "\n",
        "![Trace UI](https://raw.githubusercontent.com/comet-ml/opik/main/apps/opik-documentation/documentation/static/img/cookbook/chain_density_experiment_cookbook.png)\n"
      ]
    },
    {
      "cell_type": "markdown",
      "metadata": {
        "id": "gXDzw4z3dusu"
      },
      "source": [
        "## Comparing prompt templates\n",
        "\n",
        "We will update the iteration summary prompt and evaluate its impact on the evaluation metrics."
      ]
    },
    {
      "cell_type": "code",
      "execution_count": null,
      "metadata": {
        "id": "OAUPqa3ydusu"
      },
      "outputs": [],
      "source": [
        "import opik\n",
        "\n",
        "ITERATION_SUMMARY_PROMPT = opik.Prompt(\n",
        "    name=\"Iteration Summary Prompt\",\n",
        "    prompt=\"\"\"Document: {document}\n",
        "Current summary: {current_summary}\n",
        "Instruction to focus on: {instruction}\n",
        "\n",
        "Generate a concise, entity-dense, and highly technical summary from the provided Document that specifically addresses the given Instruction.\n",
        "\n",
        "Guidelines:\n",
        "1. **Maximize Clarity and Density**: Revise the current summary to enhance flow, density, and conciseness.\n",
        "2. **Eliminate Redundant Language**: Avoid uninformative phrases such as \"the article discusses.\"\n",
        "3. **Ensure Self-Containment**: The summary should be dense and concise, easily understandable without referring back to the document.\n",
        "4. **Align with Instruction**: Make sure the summary specifically addresses the given instruction.\n",
        "\n",
        "\"\"\".rstrip().lstrip(),\n",
        ")"
      ]
    },
    {
      "cell_type": "code",
      "execution_count": null,
      "metadata": {
        "id": "VgHAH8Lodusu",
        "outputId": "4704739c-45b9-4327-91b2-5a1670ad61e6"
      },
      "outputs": [
        {
          "name": "stderr",
          "output_type": "stream",
          "text": [
            "Evaluation: 100%|██████████| 18/18 [00:24<00:00,  1.37s/it]\n"
          ]
        },
        {
          "data": {
            "text/html": [
              "<pre style=\"white-space:pre;overflow-x:auto;line-height:normal;font-family:Menlo,'DejaVu Sans Mono',consolas,'Courier New',monospace\">╭─ arXiv Papers (18 samples) ──────────────╮\n",
              "│                                          │\n",
              "│ <span style=\"font-weight: bold\">Total time:       </span> 00:00:25              │\n",
              "│ <span style=\"font-weight: bold\">Number of samples:</span> 18                    │\n",
              "│                                          │\n",
              "│ <span style=\"color: #008000; text-decoration-color: #008000; font-weight: bold\">summary_relevance: 1.0000 (avg)</span>          │\n",
              "│ <span style=\"color: #008000; text-decoration-color: #008000; font-weight: bold\">summary_conciseness: 2.8333 (avg)</span>        │\n",
              "│ <span style=\"color: #008000; text-decoration-color: #008000; font-weight: bold\">summary_technical_accuracy: 1.0000 (avg)</span> │\n",
              "│ <span style=\"color: #008000; text-decoration-color: #008000; font-weight: bold\">summary_average_score: 1.6094 (avg)</span>      │\n",
              "│                                          │\n",
              "╰──────────────────────────────────────────╯\n",
              "</pre>\n"
            ],
            "text/plain": [
              "╭─ arXiv Papers (18 samples) ──────────────╮\n",
              "│                                          │\n",
              "│ \u001b[1mTotal time:       \u001b[0m 00:00:25              │\n",
              "│ \u001b[1mNumber of samples:\u001b[0m 18                    │\n",
              "│                                          │\n",
              "│ \u001b[1;32msummary_relevance: 1.0000 (avg)\u001b[0m          │\n",
              "│ \u001b[1;32msummary_conciseness: 2.8333 (avg)\u001b[0m        │\n",
              "│ \u001b[1;32msummary_technical_accuracy: 1.0000 (avg)\u001b[0m │\n",
              "│ \u001b[1;32msummary_average_score: 1.6094 (avg)\u001b[0m      │\n",
              "│                                          │\n",
              "╰──────────────────────────────────────────╯\n"
            ]
          },
          "metadata": {},
          "output_type": "display_data"
        },
        {
          "data": {
            "text/html": [
              "<pre style=\"white-space:pre;overflow-x:auto;line-height:normal;font-family:Menlo,'DejaVu Sans Mono',consolas,'Courier New',monospace\">Uploading results to Opik <span style=\"color: #808000; text-decoration-color: #808000\">...</span> \n",
              "</pre>\n"
            ],
            "text/plain": [
              "Uploading results to Opik \u001b[33m...\u001b[0m \n"
            ]
          },
          "metadata": {},
          "output_type": "display_data"
        },
        {
          "data": {
            "text/html": [
              "<pre style=\"white-space:pre;overflow-x:auto;line-height:normal;font-family:Menlo,'DejaVu Sans Mono',consolas,'Courier New',monospace\">View the results <a href=\"https://www.comet.com/opik/jacques-comet/experiments/0192ba83-4a5c-779b-bf51-48562b767f33/compare?experiments=%5B%2206740853-e93a-7fea-8000-c9487836fcbc%22%5D\" target=\"_blank\">in your Opik dashboard</a>.\n",
              "</pre>\n"
            ],
            "text/plain": [
              "View the results \u001b]8;id=766195;https://www.comet.com/opik/jacques-comet/experiments/0192ba83-4a5c-779b-bf51-48562b767f33/compare?experiments=%5B%2206740853-e93a-7fea-8000-c9487836fcbc%22%5D\u001b\\in your Opik dashboard\u001b]8;;\u001b\\.\n"
            ]
          },
          "metadata": {},
          "output_type": "display_data"
        }
      ],
      "source": [
        "from opik.evaluation import evaluate\n",
        "\n",
        "os.environ[\"OPIK_PROJECT_NAME\"] = \"summary-evaluation-prompts\"\n",
        "\n",
        "MODEL = \"gpt-4o-mini\"\n",
        "DENSITY_ITERATIONS = 2\n",
        "\n",
        "experiment_config = {\n",
        "    \"iteration_summary_prompt\": ITERATION_SUMMARY_PROMPT,\n",
        "    \"final_summary_prompt\": FINAL_SUMMARY_PROMPT,\n",
        "    \"model\": MODEL,\n",
        "    \"density_iterations\": DENSITY_ITERATIONS,\n",
        "}\n",
        "\n",
        "res = evaluate(\n",
        "    dataset=dataset,\n",
        "    experiment_config=experiment_config,\n",
        "    task=evaluation_task,\n",
        "    scoring_metrics=[EvaluateSummary(name=\"summary-metrics\")],\n",
        "    prompt=ITERATION_SUMMARY_PROMPT,\n",
        ")"
      ]
    },
    {
      "cell_type": "markdown",
      "metadata": {
        "id": "yMF8Aqmodusu"
      },
      "source": [
        "You can now compare the results between the two experiments in the Opik UI:\n",
        "\n",
        "![Trace UI](https://raw.githubusercontent.com/comet-ml/opik/main/apps/opik-documentation/documentation/static/img/cookbook/chain_density_trace_comparison_cookbook.png)"
      ]
    }
  ],
  "metadata": {
    "kernelspec": {
      "display_name": "Python 3 (ipykernel)",
      "language": "python",
      "name": "python3"
    },
    "language_info": {
      "codemirror_mode": {
        "name": "ipython",
        "version": 3
      },
      "file_extension": ".py",
      "mimetype": "text/x-python",
      "name": "python",
      "nbconvert_exporter": "python",
      "pygments_lexer": "ipython3",
      "version": "3.12.4"
    },
    "colab": {
      "provenance": [],
      "include_colab_link": true
    }
  },
  "nbformat": 4,
  "nbformat_minor": 0
}